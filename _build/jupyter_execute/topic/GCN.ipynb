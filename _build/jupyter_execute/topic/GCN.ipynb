{
 "cells": [
  {
   "cell_type": "markdown",
   "id": "0f61f510",
   "metadata": {},
   "source": [
    "# Fraud Detection\n",
    "\n",
    "## node2vec: Scalable Feature Learning for Networks\n",
    "\n",
    "GOAL: node2vec, a semi-supervised algorithm for scalable feature learning in networks.\n",
    "\n",
    "**Def. Link Prediction:** Predict whether a pair of nodes in a network should have an edge connecting them.\n"
   ]
  },
  {
   "cell_type": "markdown",
   "id": "3c957829",
   "metadata": {},
   "source": [
    "## Applying support vector data description for fraud detection\n",
    "\n",
    "Khedmati, Mohamad, Masoud Erfani, and Mohammad GhasemiGol. \"Applying support vector data description for fraud detection.\" arXiv preprint arXiv:2006.00618 (2020).\n",
    "\n",
    "**One-class Classification(OCC):** Identify objects of **a specific class amongst all objects**, by primarily learning from a training set containing **only the objects of that class**(not necessarily). It is more difficult than the traditional classification problem, which tries to distinguish between two or more classes with the training set containing objects from all the classes. [wiki](https://en.wikipedia.org/wiki/One-class_classification) \n",
    "\n",
    "**Support Vector Data Description(SVDD):** SVM based one-class classification, which relies on identifying the smallest hypersphere (with radius $r$, and center $c$) consisting of all the data points $x = (x_1,x_2,...,x_n)$. The problem can be defined as:\n",
    " \\begin{align*}\n",
    " & \\min_{r,c} r^2 \\\\\n",
    " & s.t. \\|\\Phi(x_i) - c\\| \\le r^2, \\forall i=1,2,...,n\n",
    " \\end{align*}\n",
    "However, the optimization problem given is highly restrictive and sensitive to outliers, since all the data points should be included in the hypersphere. To overcome the problem, we introduce slack variables $\\zeta = (\\zeta_1,\\zeta_2,...,\\zeta_n)$:\n",
    " \\begin{align*}\n",
    " & \\min_{r,c} r^2  + \\frac{1}{n \\nu} \\sum_{i=1}^n \\zeta_i \\\\\n",
    " & s.t. \\|\\Phi(x_i) - c\\| \\le r^2 + \\zeta_i, \\forall i=1,2,...,n\n",
    " \\end{align*}\n",
    "Noted that the objective function should be penalized to restrict the slack variables. For the relaxed optimization problem, we apply the KKT conditions.\n",
    "\n",
    "**Density-based spatial clustering of applications with noise(DBSCAN):**\n",
    "The DBSCAN algorithm can be abstracted into the following steps: [wiki](https://en.wikipedia.org/wiki/DBSCAN)\n",
    " - Find the points in the $\\epsilon$-neighborhood of every point, and identify the core points with more than minPts neighbors.\n",
    " - Find the connected components of core points on the neighbor graph, ignoring all non-core points.\n",
    " - Assign each non-core point to a nearby cluster if the cluster is an $\\epsilon$-neighbor, otherwise assign it to noise.\n",
    "\n",
    "Comments:\n",
    " 1. One-class Classification: we ONLY need non-fraud data to train a SVDD model! \n",
    " 2. Sample Reduction(REDBSCAN): since SVDD is based on boundaries, the data samples could be reduced as long as the \"shape\" remains the same. \n",
    " 3. Tune hyper-parameter based on Genectic Algorithm: NOT required, other methods such as NN are also suitable.\n",
    " "
   ]
  },
  {
   "cell_type": "markdown",
   "id": "bc827790",
   "metadata": {},
   "source": [
    "## SynchroTrap: Uncovering Large Groups of Active Malicious Accounts in Online Social Networks\n",
    "\n",
    "**Def. Jaccard Similarity:** The Jaccard similarity measures the similarity between two sets of data, which is calculated by dividing the number of observations in both sets by the number of observations in either set. \n",
    "\n",
    "\\begin{align*}\n",
    "Sim(A, B) = \\frac{|A \\cap B|}{|A \\cup B|}\n",
    "\\end{align*}\n",
    "\n",
    "**Def. Account Similarity in SynchroTrap:** The similarity between two accounts is based on the Jaccard Similarity. Let a time-stamped user action be denoted as a tuple $(U_i, T_i, C_i)$, representing the user-id, action timestamp and the constraint object. Note that the constraint is defined by the its application, such as ip, fingerprint and even a combination of these entities. Then we define that two actions \"match\"($\\approx$) if they share the exact same constraint and fall into the same time window with a pre-defined length $T_{sim}$:\n",
    "\\begin{align*}\n",
    "(U_i, T_i, C_i) \\approx (U_j, T_j, C_j)\n",
    "\\end{align*}\n",
    "if $C_i = C_j$ and $|T_i - T_j| \\le T_{sim}$.\n",
    "\n",
    " - Per-constraint Similarity: the similarity between users i & j on constraint k is defined as\n",
    " \\begin{align*}\n",
    " Sim(Ui, Uj, C_k) = \\frac{|A_i^k \\cap A_j^k|}{|A_i^k \\cup A_j^k|}\n",
    " \\end{align*}\n",
    " where set $A_i^k = \\{(U, T, C) \\mid U=U_i, C=C_k\\}$, and the intersection and union is caculated by the operation of \"match\" we defined previously.\n",
    " \n",
    " - Overall Similarity: the overall similarity between users i & j is defined as\n",
    " \\begin{align*}\n",
    " Sim(Ui, Uj) = \\frac{\\sum_k |A_i^k \\cap A_j^k|}{\\sum_k |A_i^k \\cup A_j^k|}\n",
    " \\end{align*}\n",
    " Note that the overall similarity is NOT based on per-constraint similarity. It applies to applications where each constraint could be used only once(such as app-install).\n",
    "\n",
    "\n",
    "**Def. Single-linkage:** Single-linkage clustering is one of several methods of hierarchical clustering. It is based on grouping clusters in **bottom-up fashion**, at each step combining two clusters that contain the closest pair of elements not yet belonging to the same cluster as each other.\n",
    "\n",
    "\n",
    "**Def. Scalable User Clustering:** The user clustering algorithm is based on the bottom-up fashion single-linkage clustering. The algorithm uses an agglomerative approach which begins with each user as a different cluster, and iterately merge clusters with high similarity to produce large clusters. In addition, to make the algorithm scalable for parallel implementation, the algorithm is simplified as the connected components in the pruned user similarity graph filtered with a given similarity threshold. \n"
   ]
  }
 ],
 "metadata": {
  "kernelspec": {
   "display_name": "Python 3 (ipykernel)",
   "language": "python",
   "name": "python3"
  },
  "language_info": {
   "codemirror_mode": {
    "name": "ipython",
    "version": 3
   },
   "file_extension": ".py",
   "mimetype": "text/x-python",
   "name": "python",
   "nbconvert_exporter": "python",
   "pygments_lexer": "ipython3",
   "version": "3.9.15"
  }
 },
 "nbformat": 4,
 "nbformat_minor": 5
}