{
 "cells": [
  {
   "cell_type": "markdown",
   "id": "0f61f510",
   "metadata": {},
   "source": [
    "# Graphic Convolutional Network\n",
    "\n",
    "## node2vec: Scalable Feature Learning for Networks\n",
    "\n",
    "GOAL: node2vec, a semi-supervised algorithm for scalable feature learning in networks.\n",
    "\n",
    "**Def. Link Prediction:** Predict whether a pair of nodes in a network should have an edge connecting them.\n"
   ]
  },
  {
   "cell_type": "markdown",
   "id": "bc827790",
   "metadata": {},
   "source": [
    "## SynchroTrap: Uncovering Large Groups of Active Malicious Accounts in Online Social Networks\n",
    "\n",
    "**Def. Jaccard Similarity:** The Jaccard similarity measures the similarity between two sets of data, which is calculated by dividing the number of observations in both sets by the number of observations in either set. \n",
    "\n",
    "\\begin{align*}\n",
    "Sim(A, B) = \\frac{|A \\cap B|}{|A \\cup B|}\n",
    "\\end{align*}\n",
    "\n",
    "**Def. Account Similarity in SynchroTrap:** The similarity between two accounts is based on the Jaccard Similarity. Let a time-stamped user action be denoted as a tuple $(U_i, T_i, C_i)$, representing the user-id, action timestamp and the constraint object. Note that the constraint is defined by the its application, such as ip, fingerprint and even a combination of these entities. Then we define that two actions \"match\"($\\approx$) if they share the exact same constraint and fall into the same time window with a pre-defined length $T_{sim}$:\n",
    "\\begin{align*}\n",
    "(U_i, T_i, C_i) \\approx (U_j, T_j, C_j)\n",
    "\\end{align*}\n",
    "if $C_i = C_j$ and $|T_i - T_j| \\le T_{sim}$.\n",
    "\n",
    " - Per-constraint Similarity: the similarity between users i & j on constraint k is defined as\n",
    " \\begin{align*}\n",
    " Sim(Ui, Uj, C_k) = \\frac{|A_i^k \\cap A_j^k|}{|A_i^k \\cup A_j^k|}\n",
    " \\end{align*}\n",
    " where set $A_i^k = \\{(U, T, C) \\mid U=U_i, C=C_k\\}$, and the intersection and union is caculated by the operation of \"match\" we defined previously.\n",
    " \n",
    " - Overall Similarity: the overall similarity between users i & j is defined as\n",
    " \\begin{align*}\n",
    " Sim(Ui, Uj) = \\frac{\\sum_k |A_i^k \\cap A_j^k|}{\\sum_k |A_i^k \\cup A_j^k|}\n",
    " \\end{align*}\n",
    " Note that the overall similarity is NOT based on per-constraint similarity. It applies to applications where each constraint could be used only once(such as app-install).\n",
    "\n",
    "\n",
    "**Def. Single-linkage:** Single-linkage clustering is one of several methods of hierarchical clustering. It is based on grouping clusters in **bottom-up fashion**, at each step combining two clusters that contain the closest pair of elements not yet belonging to the same cluster as each other.\n",
    "\n",
    "\n",
    "**Def. Scalable User Clustering:** The user clustering algorithm is based on the bottom-up fashion single-linkage clustering. The algorithm uses an agglomerative approach which begins with each user as a different cluster, and iterately merge clusters with high similarity to produce large clusters. In addition, to make the algorithm scalable for parallel implementation, the algorithm is simplified as the connected components in the pruned user similarity graph filtered with a given similarity threshold. \n"
   ]
  }
 ],
 "metadata": {
  "kernelspec": {
   "display_name": "Python 3 (ipykernel)",
   "language": "python",
   "name": "python3"
  },
  "language_info": {
   "codemirror_mode": {
    "name": "ipython",
    "version": 3
   },
   "file_extension": ".py",
   "mimetype": "text/x-python",
   "name": "python",
   "nbconvert_exporter": "python",
   "pygments_lexer": "ipython3",
   "version": "3.9.15"
  }
 },
 "nbformat": 4,
 "nbformat_minor": 5
}