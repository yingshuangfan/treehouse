{
 "cells": [
  {
   "attachments": {},
   "cell_type": "markdown",
   "id": "1e4d5bdd",
   "metadata": {},
   "source": [
    "# Machine Learning\n",
    "\n",
    "## Linear Model\n",
    "\n",
    "### SVM\n",
    "\n",
    "### Logistic Regression\n",
    "\n",
    "\n",
    "## Non-Linear Model\n",
    "\n",
    "### KNN\n",
    "\n",
    "### Decision Tree"
   ]
  }
 ],
 "metadata": {
  "kernelspec": {
   "display_name": "Python 3 (ipykernel)",
   "language": "python",
   "name": "python3"
  },
  "language_info": {
   "codemirror_mode": {
    "name": "ipython",
    "version": 3
   },
   "file_extension": ".py",
   "mimetype": "text/x-python",
   "name": "python",
   "nbconvert_exporter": "python",
   "pygments_lexer": "ipython3",
   "version": "3.9.15"
  }
 },
 "nbformat": 4,
 "nbformat_minor": 5
}