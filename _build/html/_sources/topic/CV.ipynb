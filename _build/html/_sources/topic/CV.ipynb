{
 "cells": [
  {
   "cell_type": "markdown",
   "id": "d6518a96",
   "metadata": {},
   "source": [
    "# Computer Vision\n",
    "\n",
    "## ResNet - Deep Residual Learning for Image Recognition\n",
    "\n",
    "Intuition: Deep network is hard to optimize. E.g. AlexNet, VNN. Why does the increase of layers lead to higher training errors? \n",
    "\n",
    "Suppose a shallow network learned a function f, then we could assume that a deeper network is capable of learning the same function by copying the first N-layers exactly as the shallow network and the rest of the layers which simulate an identity matrix. In other words, the accuracy of the deeper network should reach (or be close) to the shallow network. Why can't these extra layers learn the identity matrix? \n",
    "\n",
    "Notice: The problem we met here is different from overfitting! The bad performance is NOT due to an increase in parameters. On the other hand, the solution space of the shallow network is the subset of the deep network. Therefore, we should be capable of learning the exact same function on a deeper network or even gain a better performance(on the training set).\n",
    "\n",
    "### Explanation:\n",
    "\n",
    "Initialization: values are randomly initialized around zero. Thus learning an identity function is NOT any easier to learn any other function.\n",
    "\n",
    "**Hypothesis:** Use the identity function as the default value instead of zeros.\n",
    "\n",
    "**How:** Add a \"skip\" connection from the input to the output(with ReLU), thus the default function would be the identity function since the output is identical to the input if the weight layers do not learn anything. This is the so-called residual connection. However, if the shape of the output is different from the input, there are different options to design a valid connection:\n",
    "\n",
    "A. Zero-padded.\n",
    "\n",
    "B. One-by-one convolution.\n",
    "\n",
    "C. One-by-one convolution + ???(introduce much more parameters)\n",
    "\n",
    "### Remark:\n",
    "\n",
    "- The performance of option 3 only enhances the accuracy marginally, thus option 2 is the default strategy now in the industry.\n",
    "- The deeper the network, the more helpful the residual connections are. \n",
    "- Ensemble the ResNets won the ImageNet contest that year.\n",
    "\n",
    "Reference: He, Kaiming, et al. \"Deep residual learning for image recognition.\" Proceedings of the IEEE conference on computer vision and pattern recognition. 2016."
   ]
  },
  {
   "cell_type": "markdown",
   "id": "71b899e2",
   "metadata": {},
   "source": [
    "## You Only Look Once: Unified, Real-Time Object Detection\n",
    "\n",
    "**Intuition:** Split the image into N*N grid cells, with each cell be presented with a fixed length of vector. The vector contains information as follows:\n",
    "\n",
    "- Pc: if the cell contains an object; if Pc=0, then the rest of the values don't matter.\n",
    "- Bx, By: the center coordinate of the  bounding box; the center should always lies in the cell, thus Bx and By are from 0 to 1.\n",
    "- Bw, Bh: the width and height of the bounding box; the box could extend  out of the cell, thus Bw and Bh could be larger than 1.\n",
    "- Ci: the category id; this could be one-hot encoding.\n",
    "\n",
    "### Remark:\n",
    "\n",
    " - YOLO algorithm is very fast compared to algorithms such as CRNN. The main reason lies in the name: because we only need to traverse each image for one time. \n",
    " - The method is capable of representing multiple objects as long as the number of cells is sufficient. \n",
    "\n",
    "### Extended Discussion: \n",
    "\n",
    "**Q1.** When predicting a new image, the algorithm could output multiple potential bounding box for the same object. How to select the best one?\n",
    "\n",
    "**Solution:** Non-max suppression, or IOU. The method compares each pair of bounding box if they are overlapping, and discard one of them if the overlapping area is greater than the threshold. After IOU, the each cell should output a unique bounding box if applicable.\n",
    "\n",
    "**Q2.** What if there are multiple objects in a single grid cell?\n",
    "\n",
    "**Solution:** Anchor box, with two bounding boxes and category ids in a single vector. The vector would be fixed length and thus has the capability of representing at most two objects. The solution is effective because generally the grid cells are so small that they cannot contain multiple objects. Therefore, as a result an 2-anchor box would be sufficient enough in real-world scenarios.\n",
    "\n",
    "Reference: Redmon, Joseph, et al. \"You only look once: Unified, real-time object detection.\" Proceedings of the IEEE conference on computer vision and pattern recognition. 2016.\n"
   ]
  }
 ],
 "metadata": {
  "kernelspec": {
   "display_name": "Python 3 (ipykernel)",
   "language": "python",
   "name": "python3"
  },
  "language_info": {
   "codemirror_mode": {
    "name": "ipython",
    "version": 3
   },
   "file_extension": ".py",
   "mimetype": "text/x-python",
   "name": "python",
   "nbconvert_exporter": "python",
   "pygments_lexer": "ipython3",
   "version": "3.9.15"
  }
 },
 "nbformat": 4,
 "nbformat_minor": 5
}
